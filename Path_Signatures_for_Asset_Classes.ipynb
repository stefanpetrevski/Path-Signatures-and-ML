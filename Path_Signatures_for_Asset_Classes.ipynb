{
  "nbformat": 4,
  "nbformat_minor": 0,
  "metadata": {
    "colab": {
      "name": "Path Signatures for Asset Classes",
      "provenance": [],
      "collapsed_sections": [],
      "toc_visible": true
    },
    "kernelspec": {
      "name": "python3",
      "display_name": "Python 3"
    },
    "language_info": {
      "name": "python"
    }
  },
  "cells": [
    {
      "cell_type": "markdown",
      "source": [
        "# Determining asset classes using path signatures\n",
        "\n",
        "In this notebook, we will look at timeseries data for various asset classes (stocks, cryptocurrencies, ETFs) and try to predict which type a given path belongs to. As training deep nets would require many examples (each of which will have a few hundred datapoints from the timeseries), we instead achieve this with comparatively few instances (~$1000$) using some tools from rough path theory - essentially by compressing each path to a smaller order and running a very simple regression/classification. \n",
        "\n",
        "In some ways, by using signatures, we're essentially adding (careful) bias to our model to point it to the right properties of a path that encode the class to which it belongs. The interesting difference compared with a other a priori models is that there is no need for any human knowledge to be injected here to help the model - as we will discuss, path signatures are a natural way to truncate the data.  "
      ],
      "metadata": {
        "id": "TvBSdGRX_6qB"
      }
    },
    {
      "cell_type": "markdown",
      "source": [
        "First we better be clear what we mean by a **path**: a continuous mapping $X : [a,b] \\to \\mathbb{R}^d $ from some interval to a Euclidean space. In our case, the interval will denote the time period, and our Euclidean space will be $\\mathbb{R}^2$, since we will be looking at the price and the volume of the security traded as separate variables. \n",
        "\n",
        "To define the path signature, we need a few more auxiliary definitions. Let's start one-by one: \n",
        "\n",
        "1.   **Path integrals**: for the parametrized path $X = (X_{t}^{1},X_{t}^{2},... X_{t}^{d} $) and for a timepoint $t \\in [a,b]$, we can define integrals along a dimension $i \\in \\{1,...,d\\}$ as:\n",
        "\n",
        "$$ S(X)_{a, t}^{i} = \\int_{a < s < b} dX_{s}^{i} = X_{t}^{i}-X_{a}^{i}.$$\n",
        "\n",
        "We can keep iterating this procedure by adding more integrals and considering more dimensions. The next level of complexity is the double iterated integral, first along a coordinate $i$ and then along a coordinate $j$:\n",
        "\n",
        "$$ S(X)_{a, t}^{i, j} = \\int_{a < s < b} S(X)_{a, s}^{i} dX_{s}^{j} = \\int_{a < r < s < t} dX_{r}^{i} dX_{s}^{j}.$$\n",
        "\n",
        "Proceeding, we can define the *k-fold iterated integral* $S(X)_{a,b}^{i_1,...,i_k}$ as follows:\n",
        "\n",
        "$$ S(X)_{a, t}^{i_1, ..., i_k} = \\int_{a < t_k < t} ... \\int_{a < t_1 < t_2} dX_{t_1}^{i_1} ... dX_{t_k}^{i_k}.$$\n",
        "\n",
        "\n",
        "Here, the superscripts will run along the set of all multi indices of the form $(i_1, ..., i_k)$, where $k \\geq 1$ is an integer and each of the $i_j$'s are from a given coordinate of the path $\\{1,...,d \\}$.\n",
        "\n",
        "\n",
        "2.   **Tensor algebra spaces**. We need some abstractions where our path signatures will live. We first define:\n",
        "\n",
        "$$\n",
        "(\\mathbb{R}^d)^{\\otimes n} = \\mathbb{R}^d \\otimes \\mathbb{R}^d \\otimes ... \\otimes \\mathbb{R}^d,\n",
        "$$\n",
        "\n",
        "where $n \\in \\mathbb{N}$ is the *tensor power* of the space and there are $n$ terms in the above product. The corresponding tensor algebra space is:\n",
        "\n",
        "$$\n",
        "T((\\mathbb{R}^d)) = \\{ (a_0, a_1,...) | a_n \\in (\\mathbb{R}^d)^{\\otimes n}, \\forall n \\in \\mathbb{N} \\}.\n",
        "$$\n",
        "\n",
        "For practical applications we often truncate this space - for an integer $m$, we can define:\n",
        "\n",
        "$$\n",
        "T^{m}(\\mathbb{R}^d)= \\bigotimes_{i = 0}^{m} (\\mathbb{R}^d)^{\\otimes i}.\n",
        "$$\n",
        "\n",
        "3. **Signature**: (of a path $X$) denoted by $S(X)_{a,b}$, is an infinite dimensional vector of all the iterated integrals of the path $X$. Formally it can be represented as the sequence of real numbers:\n",
        "\n",
        "$$\n",
        "S(X)_{a,b} = (1, S(X)_{a,b}^{1}, ... , S(X)_{a,b}^{d}, S(X)_{a,b}^{1,1}, S(X)_{a,b}^{1,2}...).\n",
        "$$\n",
        "\n",
        "To connect signatures with the (more abstract) definition under point 2 above, we can alternatively write this as:\n",
        "\n",
        "$$\n",
        "S(X)_{a,b} = (1, X^1, X^2, ...) \\in T((\\mathbb{R}^d)),\n",
        "$$\n",
        "\n",
        "where for any $n \\in \\mathbb{N}$:\n",
        "\n",
        "$$\n",
        "X^{n} = {\\int ... \\int}_{a < t_1 <...t_n < b} dX_{t_1}^{i_1} \\otimes ... \\otimes dX_{t_n}^{i_n}.\n",
        "$$\n",
        "\n",
        "Often we'll be interested in the truncated signature (to a given order, say $m$), given by: \n",
        "\n",
        "$$\n",
        "S^n(X)_{a,b} = (1, X^1, X^2, ... ,X^m) \\in T^m(\\mathbb{R}^d).\n",
        "$$\n",
        "\n",
        "We will call this the **path signature of order $m$**."
      ],
      "metadata": {
        "id": "A9TAzHaxDGr5"
      }
    },
    {
      "cell_type": "markdown",
      "source": [
        "All the above is quite abstract, so we can give a simplified analogy as an example. Suppose that we have a mini-alphabet of only three letters, say $\\{A, B, C \\}$. If we think of integration along paths as sticking them together to form words, then the signature they generate will look like:\n",
        "\n",
        "$$\n",
        "(A, B, C, AA, AB, AC, BA, BB, BC, CA, CB, CC, AAA, AAB, AAC, ABA, ...).\n",
        "$$\n",
        "\n",
        "If we were to truncate this, say to second order, then we'd only consider words which have at most length two - we end up with: \n",
        "\n",
        "$$\n",
        "(A, B, C, AA, AB, AC, BA, BB, BC, CA, CB, CC).\n",
        "$$\n"
      ],
      "metadata": {
        "id": "Kj3Py4lHODcy"
      }
    },
    {
      "cell_type": "markdown",
      "source": [
        "### Why path signatures?\n",
        "\n",
        "We defined paths above, but why are they a good choice for the problem at hand. We argue below: \n",
        "\n",
        "1. **Uniqueness (kind of)**: Clearly given a path we can uniquely construct the well-defined signature, but how about the the other way around? The answer is 'almost' - given bounded variation, the signature is unique up to tree-like equivalence. Hence, the signature is a good and shorter description of the path itself. \n",
        "2. **Truncation works**: If we have a couple of years of timeseries data (say 700 datapoints), it doesn't feel like we're simplifying the problem at all if we instead consider an infinitely dimensional signature for each such path. Instead, we need to put our hopes on truncation - the concern then is that we might be losing on information by only considering small and finite orders. This is not the case - given $X$ has bounded variation (loosely speaking meaning it is not infinitely oscillatory), higher order terms possess factorial decay: \n",
        "\n",
        "$$\n",
        "\\left| \\left| {\\int ... \\int}_{a < t_1 <...t_n < b} dX_{t_1}^{i_1} ... dX_{t_n}^{i_n} \\right| \\right| \\leq \n",
        "\\frac{1}{n!} \\text{sup}_{\\{t_i\\} ⊂ [a,b]} \\sum_{i} |X_{t_{i+1}} - X_{t_{i}}|.\n",
        "$$\n",
        "3. **Signatures make simple linear models work**: In the classification problem at hand, we want to learn a function $f$ of the form $Y = f(X)$, where $X$ is a stream of price and volume data, and $Y$ is the actual type of security we are dealing with. It is a remarkable theorem (see [1]), that if we reduce $X$ to a compact set on the space of path signatures, the function $f$ we are looking for can be approximated arbitrarily well by linear functions.  \n",
        "\n",
        "\n",
        "All this said, we now proceed by training a simple linear model on the transformed data (in the shape of truncated path signatures, one for each timeseries). "
      ],
      "metadata": {
        "id": "90CGmCNBcJEz"
      }
    },
    {
      "cell_type": "code",
      "metadata": {
        "id": "uWEVzIQe4kLy",
        "colab": {
          "base_uri": "https://localhost:8080/"
        },
        "outputId": "b039c03d-a4a3-4a36-a6e8-931533088307"
      },
      "source": [
        "# need pandas and numpy to deal with dataframes and arrays\n",
        "import numpy as np\n",
        "import pandas as pd\n",
        "\n",
        "# importing things to handle dates and plot charts\n",
        "import datetime \n",
        "import time\n",
        "import numbers \n",
        "import matplotlib.dates as mdates\n",
        "from random import shuffle\n",
        "import matplotlib.pyplot as plt\n",
        "import matplotlib.dates as mdates\n",
        "import matplotlib.patches as patches\n",
        "\n",
        "# we want to pull timeseries data from Yahoo Finance\n",
        "# As of March 2022 this is best done via the yfinance API \n",
        "!pip install yfinance\n",
        "import yfinance as yf"
      ],
      "execution_count": 3,
      "outputs": [
        {
          "output_type": "stream",
          "name": "stdout",
          "text": [
            "Collecting yfinance\n",
            "  Downloading yfinance-0.1.70-py2.py3-none-any.whl (26 kB)\n",
            "Collecting requests>=2.26\n",
            "  Downloading requests-2.27.1-py2.py3-none-any.whl (63 kB)\n",
            "\u001b[K     |████████████████████████████████| 63 kB 1.4 MB/s \n",
            "\u001b[?25hRequirement already satisfied: numpy>=1.15 in /usr/local/lib/python3.7/dist-packages (from yfinance) (1.21.5)\n",
            "Requirement already satisfied: multitasking>=0.0.7 in /usr/local/lib/python3.7/dist-packages (from yfinance) (0.0.10)\n",
            "Requirement already satisfied: pandas>=0.24.0 in /usr/local/lib/python3.7/dist-packages (from yfinance) (1.3.5)\n",
            "Collecting lxml>=4.5.1\n",
            "  Downloading lxml-4.8.0-cp37-cp37m-manylinux_2_17_x86_64.manylinux2014_x86_64.manylinux_2_24_x86_64.whl (6.4 MB)\n",
            "\u001b[K     |████████████████████████████████| 6.4 MB 8.2 MB/s \n",
            "\u001b[?25hRequirement already satisfied: pytz>=2017.3 in /usr/local/lib/python3.7/dist-packages (from pandas>=0.24.0->yfinance) (2018.9)\n",
            "Requirement already satisfied: python-dateutil>=2.7.3 in /usr/local/lib/python3.7/dist-packages (from pandas>=0.24.0->yfinance) (2.8.2)\n",
            "Requirement already satisfied: six>=1.5 in /usr/local/lib/python3.7/dist-packages (from python-dateutil>=2.7.3->pandas>=0.24.0->yfinance) (1.15.0)\n",
            "Requirement already satisfied: urllib3<1.27,>=1.21.1 in /usr/local/lib/python3.7/dist-packages (from requests>=2.26->yfinance) (1.24.3)\n",
            "Requirement already satisfied: certifi>=2017.4.17 in /usr/local/lib/python3.7/dist-packages (from requests>=2.26->yfinance) (2021.10.8)\n",
            "Requirement already satisfied: idna<4,>=2.5 in /usr/local/lib/python3.7/dist-packages (from requests>=2.26->yfinance) (2.10)\n",
            "Requirement already satisfied: charset-normalizer~=2.0.0 in /usr/local/lib/python3.7/dist-packages (from requests>=2.26->yfinance) (2.0.12)\n",
            "Installing collected packages: requests, lxml, yfinance\n",
            "  Attempting uninstall: requests\n",
            "    Found existing installation: requests 2.23.0\n",
            "    Uninstalling requests-2.23.0:\n",
            "      Successfully uninstalled requests-2.23.0\n",
            "  Attempting uninstall: lxml\n",
            "    Found existing installation: lxml 4.2.6\n",
            "    Uninstalling lxml-4.2.6:\n",
            "      Successfully uninstalled lxml-4.2.6\n",
            "\u001b[31mERROR: pip's dependency resolver does not currently take into account all the packages that are installed. This behaviour is the source of the following dependency conflicts.\n",
            "google-colab 1.0.0 requires requests~=2.23.0, but you have requests 2.27.1 which is incompatible.\n",
            "datascience 0.10.6 requires folium==0.2.1, but you have folium 0.8.3 which is incompatible.\u001b[0m\n",
            "Successfully installed lxml-4.8.0 requests-2.27.1 yfinance-0.1.70\n"
          ]
        }
      ]
    },
    {
      "cell_type": "code",
      "metadata": {
        "id": "jyhxIQeHehSz",
        "colab": {
          "base_uri": "https://localhost:8080/"
        },
        "outputId": "5626f122-b70c-45ba-aa01-a5da608cb7c4"
      },
      "source": [
        "# To compute path signatures, we need a package from a GitHub repository\n",
        "!pip install git+https://github.com/bottler/iisignature \n",
        "\n",
        "# Then we import everything that's in here\n",
        "from iisignature import *\n",
        "\n",
        "# We will need sklearn to do classical regressions. \n",
        "# Random forests are great since they are flexible and prevent overfitting\n",
        "from sklearn import linear_model\n",
        "from sklearn.ensemble import RandomForestRegressor"
      ],
      "execution_count": 4,
      "outputs": [
        {
          "output_type": "stream",
          "name": "stdout",
          "text": [
            "Collecting git+https://github.com/bottler/iisignature\n",
            "  Cloning https://github.com/bottler/iisignature to /tmp/pip-req-build-z0dv7d6s\n",
            "  Running command git clone -q https://github.com/bottler/iisignature /tmp/pip-req-build-z0dv7d6s\n",
            "Requirement already satisfied: numpy>1.7 in /usr/local/lib/python3.7/dist-packages (from iisignature==0.24) (1.21.5)\n",
            "Building wheels for collected packages: iisignature\n",
            "  Building wheel for iisignature (setup.py) ... \u001b[?25l\u001b[?25hdone\n",
            "  Created wheel for iisignature: filename=iisignature-0.24-cp37-cp37m-linux_x86_64.whl size=2522127 sha256=c0bff29a32300214b276e5eb10e02eadcf20d0649d7f6c20d36beb667edd3bf2\n",
            "  Stored in directory: /tmp/pip-ephem-wheel-cache-8spcahj5/wheels/13/02/c4/4fb22f79a642876ee2fdd84bd056596a4b7cb34af66c26de52\n",
            "Successfully built iisignature\n",
            "Installing collected packages: iisignature\n",
            "Successfully installed iisignature-0.24\n"
          ]
        }
      ]
    },
    {
      "cell_type": "code",
      "metadata": {
        "id": "-gASQUT5uYlq"
      },
      "source": [
        "class Security:\n",
        "    '''\n",
        "    Store the information for a given security\n",
        "    '''\n",
        "\n",
        "    def __init__(self, data, asset_class):\n",
        "        # Store the stream of data.\n",
        "        self.data=np.array(data, dtype='float32')\n",
        "\n",
        "        # Store the asset classs the security belongs to.\n",
        "        self.asset_class=asset_class\n",
        "\n",
        "        # Since the output to train the model must\n",
        "        # be a vector, each asset will be given\n",
        "        # by a point, which is calculated using\n",
        "        # the function asset_class_to_point.\n",
        "        self.point=asset_class_to_point(asset_class)"
      ],
      "execution_count": 5,
      "outputs": []
    },
    {
      "cell_type": "code",
      "metadata": {
        "id": "v-fN9sNWzSVU"
      },
      "source": [
        "def getData(ticker):\n",
        "\t'''\n",
        "\t\tGets data from the specified ticker, for a set time period.\n",
        "\t'''\n",
        "\n",
        "\tsecurity = yf.Ticker(ticker).history(start = \"2019-01-01\", end = \"2021-01-01\")\n",
        "\tvalues=security[[\"Close\", \"Volume\"]].reset_index().values\n",
        "\n",
        "\tfor i in range(len(values)):\n",
        "\t\tvalues[i][0]=string2datenum(str(values[i][0]), \"%Y-%m-%d %H:%M:%S\")\n",
        "\n",
        "\treturn values\n"
      ],
      "execution_count": 6,
      "outputs": []
    },
    {
      "cell_type": "code",
      "metadata": {
        "id": "qzI4Q068Qxl1"
      },
      "source": [
        "# to apply regression methods, we need to add coordinates to each country\n",
        "# then, the output will be matched to whatever coordinate is closest to it\n",
        "\n",
        "def asset_class_to_point(asset_class):\n",
        "    '''\n",
        "    Converts a sector into a point\n",
        "    '''\n",
        "    dictionary={\"Stocks\": (1,0), \"Cryptocurrencies\": (-1, 0), \"ETFs\": (0,1)}\n",
        "    return dictionary[asset_class]\n",
        "\n",
        "\n",
        "# we don't care about actual dates (eg. Nov 5th 1998 vs Nov 5th 2018)\n",
        "# what matters is the indexing so we make each day an integer\n",
        "\n",
        "def string2datenum(s, f):\n",
        "\t'''\n",
        "\t\tConverts a string date in format f to a number\n",
        "\n",
        "\t\tArguments:\n",
        "\t\t\ts: string, date that has to be converted to int\n",
        "\t\t\tf: string, format of s\n",
        "\t'''\n",
        "\treturn mdates.date2num(datetime.datetime.fromtimestamp(time.mktime(time.strptime(s, f))))\n",
        "\n",
        "def findMin(p, A):\n",
        "\t'''\n",
        "\t\tFinds the point in A that is closest to p.\n",
        "\t'''\n",
        "\tminimum=(-1, (0,0))\n",
        "\tfor p0 in A:\n",
        "\t        dist=np.linalg.norm(p0-np.array(p))\n",
        "\t        if minimum[0]==-1 or minimum[0]>dist:\n",
        "\t                minimum=(dist, p0)\n",
        "\treturn minimum[1]\n",
        "\n",
        "def accuracy(predictions, y):\n",
        "\t'''\n",
        "\t\tGiven a list of predictions and a list of correct values y,\n",
        "\t\tit calculates the accuracy of the predictions (as a percentage\n",
        "\t\tof correct guesses).\n",
        "\t'''\n",
        "\tpoints=[[1,0], [-1, 0], [0, 1]]\n",
        "\tperformance={\"guesses\": 0.0, \"total\": 0.0}\n",
        "\n",
        "\tfor i in range(len(y)):\n",
        "\t  if set(findMin(predictions[i], points))==set(y[i]):\n",
        "\t    performance[\"guesses\"]+=1\n",
        "\t  performance[\"total\"]+=1\n",
        "\n",
        "\treturn performance[\"guesses\"]/performance[\"total\"]\n"
      ],
      "execution_count": 7,
      "outputs": []
    },
    {
      "cell_type": "markdown",
      "metadata": {
        "id": "_TJ6Z8oYi-4Z"
      },
      "source": [
        "Let's just check the first couple of rows to varify that our function actually returns an array with the day, the relevant price and volume of the security. We'll take BMW as an example here:"
      ]
    },
    {
      "cell_type": "code",
      "metadata": {
        "colab": {
          "base_uri": "https://localhost:8080/",
          "height": 295
        },
        "id": "hO7a5jaZe675",
        "outputId": "27e2cba1-3e52-49c1-fe9b-b2d29296ec8f"
      },
      "source": [
        "bitcoin = pd.DataFrame(data = getData('BTC-USD'), columns = ['Date', 'Price', 'Volume'])\n",
        "bitcoin.set_index('Date')\n",
        "plt.plot(bitcoin['Date'], bitcoin['Price'], color = 'dimgray')\n",
        "plt.xlabel('Date', alpha = 0.7);\n",
        "plt.ylabel('Price (USD)', alpha = 0.7);\n",
        "plt.title('Price of Bitcoin in 2019/20', alpha = 0.7);\n",
        "plt.gca().spines['top'].set_visible(False)\n",
        "plt.gca().spines['right'].set_visible(False)\n",
        "my_ticks = ['Jan-19', 'Apr-19', 'Sep-19', 'Jan-20', 'Apr-20', 'Sep-20', 'Jan-21']\n",
        "plt.xticks(np.linspace(737060, 737791, 7), my_ticks);"
      ],
      "execution_count": 44,
      "outputs": [
        {
          "output_type": "display_data",
          "data": {
            "text/plain": [
              "<Figure size 432x288 with 1 Axes>"
            ],
            "image/png": "[encoded data removed]"
          },
          "metadata": {
            "needs_background": "light"
          }
        }
      ]
    },
    {
      "cell_type": "code",
      "source": [
        "plt.plot(bitcoin['Date'], bitcoin['Volume'], color = 'chocolate')\n",
        "plt.xlabel('Date', alpha = 0.7);\n",
        "plt.ylabel('Number of coins', alpha = 0.7);\n",
        "plt.title('Bitcoin: daily volume traded in 2019/20', alpha = 0.7);\n",
        "plt.gca().spines['top'].set_visible(False)\n",
        "plt.gca().spines['right'].set_visible(False)\n",
        "my_ticks = ['Jan-19', 'Apr-19', 'Sep-19', 'Jan-20', 'Apr-20', 'Sep-20', 'Jan-21']\n",
        "plt.xticks(np.linspace(737060, 737791, 7), my_ticks);"
      ],
      "metadata": {
        "colab": {
          "base_uri": "https://localhost:8080/",
          "height": 295
        },
        "id": "V13UL_ZqTL6P",
        "outputId": "822fd8c6-eecf-4b50-e785-9604cb662f7f"
      },
      "execution_count": 45,
      "outputs": [
        {
          "output_type": "display_data",
          "data": {
            "text/plain": [
              "<Figure size 432x288 with 1 Axes>"
            ],
            "image/png": "[encoded data removed]"
          },
          "metadata": {
            "needs_background": "light"
          }
        }
      ]
    },
    {
      "cell_type": "code",
      "metadata": {
        "id": "u0geA_3MkkIc"
      },
      "source": [
        "securities = {'Cryptocurrencies': ['BTC-USD', 'ETH-USD', 'USDT-USD', 'BNB-USD', 'USDC-USD', 'LUNA1-USD', 'XRP-USD', 'ADA-USD', 'SOL-USD', 'HEX-USD', 'AVAX-USD', 'BUSD-USD', 'DOT-USD', 'DOGE-USD',\n",
        "                                   'UST-USD', 'UST-USD', 'SHIB-USD', 'MATIC-USD', 'WBTC-USD', 'CRO-USD', 'DAI-USD', 'ATOM-USD', 'NEAR-USD', 'LTC-USD', 'LINK-USD', 'TRX-USD', 'WTRX-USD', 'UNI1-USD',\n",
        "\t\t\t\t\t\t\t\t\t\t\t\t\t\t\t\t\t  'WTRX-USD', 'UNI1-USD', '\tFTT-USD', 'LEO-USD', 'BCH-USD', 'STETH-USD', 'ALGO-USD', 'XLM-USD', 'MANA-USD', 'HBAR-USD', 'ETC-USD', 'ICP-USD', 'SAND-USD', 'FTM-USD',\n",
        "\t\t\t\t\t\t\t\t\t\t\t\t\t\t\t\t\t\t'FIL-USD', 'XMR-USD', 'EGLD-USD', 'VET-USD', 'WAVES-USD', 'KLAY-USD', 'FRAX-USD', 'THETA-USD', 'AXS-USD', 'OSMO-USD', 'XTZ-USD', 'HNT-USD', 'TONCOIN-USD', 'MIOTA-USD',\n",
        "\t\t\t\t\t\t\t\t\t\t\t\t\t\t\t\t\t\t'FLOW-USD', 'ZEC-USD', 'WBNB-USD', 'EOS-USD', 'STX-USD', 'MKR-USD', 'BTT-USD', 'RUNE-USD', 'CAKE-USD', 'BTT2-USD', 'AAVE-USD', 'HBTC-USD', 'XEC-USD', 'GRT1-USD', \n",
        "\t\t\t\t\t\t\t\t\t\t\t\t\t\t\t\t\t\t'GALA-USD', 'BSV-USD', 'ONE1-USD', 'TUSD-USD', 'KCS-USD', 'NEO-USD', 'HT-USD', 'QNT-USD', 'CHZ-USD', 'NEXO-USD', 'ENJ-USD', 'CELO-USD', 'CBG-USD', 'AMP-USD', 'AR-USD',\n",
        "\t\t\t\t\t\t\t\t\t\t\t\t\t\t\t\t\t\t'KSM-USD', 'OKB-USD', 'KDA-USD', 'DASH-USD', 'DFI-USD', 'BAT-USD', 'ANC1-USD', 'LRC-USD', 'USDP-USD', 'CRV-USD', 'XEM-USD', 'CVX-USD', 'TFUEL-USD', 'YOUC-USD',\n",
        "\t\t\t\t\t\t\t\t\t\t\t\t\t\t\t\t\t\t'ROSE-USD', 'XYM-USD', 'DCR-USD', 'CEL-USD', 'SCRT-USD', 'LN-USD', 'BORA-USD', 'LUSD-USD', 'MINA-USD', 'OMI-USD', 'YFI-USD', 'HOT1-USD', 'COMP1-USD', 'VBNB-USD',\n",
        "\t\t\t\t\t\t\t\t\t\t\t\t\t\t\t\t\t\t'IOTX-USD', 'XDC-USD', 'BIT1-USD', 'ANKR-USD', 'CCXX-USD', 'ICX-USD', 'PAXG-USD', 'SXP-USD', 'OMG-USD', 'QTUM-USD', 'RENBTC-USD', 'WEMIX-USD', 'RNDR-USD','USDN-USD', \n",
        "\t\t\t\t\t\t\t\t\t\t\t\t\t\t\t\t\t\t'NXM-USD', 'BNT-USD', '1INCH-USD', 'WAXP-USD', 'GNO-USD', 'KOK-USD', 'RVN-USD', 'BTG-USD', 'TTT1-USD', 'ZIL-USD', 'SNX-USD', 'LPT-USD', 'VLX-USD', 'KNC-USD', 'KAVA-USD',\n",
        "\t\t\t\t\t\t\t\t\t\t\t\t\t\t\t\t\t\t'GT-USD', 'UMA-USD', 'RLY-USD', 'ZEN-USD', 'GLMR-USD', 'GLM-USD', 'WOO-USD', 'SC-USD', 'AUDIO-USD', 'CHSB-USD', 'NFT1-USD', 'ONT-USD', 'VGX-USD', 'ZRX-USD', \n",
        "\t\t\t\t\t\t\t\t\t\t\t\t\t\t\t\t\t\t'METIS-USD', 'FEI-USD', 'KEEP-USD', 'IOST-USD', 'STORJ-USD', 'XWC-USD', 'REV1-USD', 'REN-USD', 'ELON-USD', 'SKL-USD', 'SUSHI-USD', 'HUSD-USD', 'HIVE-USD', 'JST-USD', \n",
        "\t\t\t\t\t\t\t\t\t\t\t\t\t\t\t\t\t\t'RACA-USD', 'POLY-USD', 'IMX1-USD', 'MOB-USD', 'UOS-USD', 'ILV-USD', 'BTRST-USD', 'CKB-USD', 'SYS-USD', 'DYDX-USD', 'NU-USD', 'SPELL-USD', 'DGB-USD', 'GUSD-USD', 'PERP-USD', \n",
        "\t\t\t\t\t\t\t\t\t\t\t\t\t\t\t\t\t\t'SAPP-USD', 'PEOPLE-USD', 'TEL-USD', 'PLA3-USD', 'SAFEMOON-USD', 'YGG-USD', 'ENS-USD', 'LSK-USD', 'BEST-USD', 'OCEAN-USD', 'XDB-USD', 'FXS-USD', 'XPRT-USD', 'RPL-USD', \n",
        "\t\t\t\t\t\t\t\t\t\t\t\t\t\t\t\t\t\t'SAFE1-USD', 'DESO-USD'],\n",
        "\t\t\t\t\t\t\t\t\t\t\t\t\t\t\n",
        "              'Stocks': ['ADM.L', 'AGK.L', 'AMEC.L', 'AAL.L', 'ANTO.L', 'ARM.L', 'ABF.L', 'AZN.L', 'AV.L', 'BAB.L', 'BA.L', 'BARC.L', 'BG.L', 'BLT.L', 'BP.L', 'BLND.L','BSY.L', 'BNZL.L', 'BRBY.L', \n",
        "\t\t\t\t\t\t\t                  'CPI.L', 'CNA.L', 'CPG.L', 'CRH.L', 'CRDA.L', 'DGE.L', 'ENRC.L', 'EVR.L', 'EXPN.L', 'FRES.L', 'GFS.L', 'GKN.L', 'GSK.L', 'GLEN.L', 'HMSO.L', 'HL.L', 'HSBA.L', 'IMI.L', \n",
        "\t\t\t\t\t\t\t\t\t\t\t\t\t\t\t\t'IHG.L', 'IAG.L', 'ITRK.L', 'ITV.L', 'SBRY.L', 'JMAT.L', 'KGF.L', 'LAND.L', 'LGEN.L', 'LLOY.L', 'MKS.L', 'MGGT.L', 'MRO.L', 'MRW.L', 'NG.L', 'NXT.L', 'OML.L', 'PFC.L', \n",
        "\t\t\t\t\t\t\t\t\t\t\t\t\t\t\t\t'PRU.L', 'RRS.L', 'RB.L', 'REL.L', 'FLG.L', 'REX.L', 'RIO.L', 'RR.L', 'RBS.L', 'RDSA.L', 'RSA.L', 'SAB.L', 'SGE.L', 'SDR.L', 'SRP.L', 'SVT.L', 'SNN.L', 'SMIN.L', 'SSE.L', \n",
        "\t\t\t\t\t\t\t\t\t\t\t\t\t\t\t\t'STAN.L', 'SL.L', 'TATE.L', 'TSCO.L', 'TT.L', 'TLW.L', 'ULVR.L', 'UU.L', 'VED.L', 'VOD.L', 'WEIR.L', 'WTB.L', 'WOS.L', 'WPP.L', 'XTA.L' 'ADS.DE', 'ALV.DE', 'BAS.DE', 'BAYN.DE', \n",
        "\t\t\t\t\t\t\t\t\t\t\t\t\t\t\t\t'BMW.DE', 'BEI.DE', 'CBK.DE', 'CON.DE', 'DAI.DE', 'DBK.DE', 'DB1.DE', 'LHA.DE', 'DPW.DE', 'DTE.DE', 'EOA.DE', 'FME.DE', 'FRE.DE', 'HEI.DE', 'HEN3.DE', 'IFX.DE', 'LIN.DE', 'MRK.DE', \n",
        "\t\t\t\t\t\t\t\t\t\t\t\t\t\t\t\t'MUV2.DE', 'PSM.DE', 'RWE.DE', 'SAP.DE', 'SIE.DE', 'TKA.DE', 'VOW3.DE', 'VNA.DE', 'MMM', 'ABT', 'ABBV', 'ACN', 'ATVI', 'AYI', 'ADBE', 'AAP', 'AES', 'AET', 'AMG', 'AFL', 'A', 'APD', \n",
        "\t\t\t\t\t\t\t\t\t\t\t\t\t\t\t\t'AKAM', 'ALK', 'ALB', 'ALXN', 'ALLE', 'AGN', 'ADS', 'LNT', 'ALL', 'GOOGL', 'GOOG', 'MO', 'AMZN', 'AEE', 'AAL', 'AEP', 'AXP', 'AIG', 'AMT', 'AWK', 'AMP', 'ABC', 'AME', 'AMGN', 'APH', \n",
        "\t\t\t\t\t\t\t\t\t\t\t\t\t\t\t\t'APC', 'ADI', 'ANTM', 'AON', 'APA', 'AIV', 'AAPL', 'AMAT', 'ADM', 'ARNC', 'AJG', 'AIZ', 'T', 'ADSK', 'ADP', 'AN', 'AZO', 'AVB', 'AVY', 'BHI', 'BLL', 'BAC', 'BCR', 'BAX', 'BBT', 'BDX', \n",
        "\t\t\t\t\t\t\t\t\t\t\t\t\t\t\t\t'BBBY', 'BRK.B', 'BBY', 'BIIB', 'BLK', 'HRB', 'BA', 'BWA', 'BXP', 'BSX', 'BMY', 'AVGO', 'BF.B', 'CHRW', 'CA', 'COG', 'CPB', 'COF', 'CAH', 'KMX', 'CCL', 'CAT', 'CBOE', 'CBG', 'CBS', 'CELG', \n",
        "\t\t\t\t\t\t\t\t\t\t\t\t\t\t\t\t'CNC', 'CNP', 'CTL', 'CERN', 'CF', 'SCHW', 'CHTR', 'CHK', 'CVX', 'CMG', 'CB', 'CHD', 'CI', 'XEC', 'CINF', 'CTAS', 'CSCO', 'C', 'CFG', 'CTXS', 'CME', 'CMS', 'COH', 'KO', 'CTSH', 'CL', 'CMCSA', \n",
        "\t\t\t\t\t\t\t\t\t\t\t\t\t\t\t\t'CMA', 'CAG', 'CXO', 'COP', 'ED', 'STZ', 'GLW', 'COST', 'COTY', 'CCI', 'CSRA', 'CSX', 'CMI', 'CVS', 'DHI', 'DHR', 'DRI', 'DVA', 'DE', 'DLPH', 'DAL', 'XRAY', 'DVN', 'DLR', 'DFS', 'DISCA', \n",
        "\t\t\t\t\t\t\t\t\t\t\t\t\t\t\t\t'DISCK', 'DG', 'DLTR', 'D', 'DOV', 'DOW', 'DPS', 'DTE', 'DD', 'DUK', 'DNB', 'ETFC', 'EMN', 'ETN', 'EBAY', 'ECL', 'EIX', 'EW', 'EA', 'EMR', 'ETR', 'EVHC', 'EOG', 'EQT', 'EFX', 'EQIX', 'EQR', \n",
        "\t\t\t\t\t\t\t\t\t\t\t\t\t\t\t\t'ESS', 'EL', 'ES', 'EXC', 'EXPE', 'EXPD', 'ESRX', 'EXR', 'XOM', 'FFIV', 'FB', 'FAST', 'FRT', 'FDX', 'FIS', 'FITB', 'FSLR', 'FE', 'FISV', 'FLIR', 'FLS', 'FLR', 'FMC', 'FTI', 'FL', 'F', 'FTV', \n",
        "\t\t\t\t\t\t\t\t\t\t\t\t\t\t\t\t'FBHS', 'BEN', 'FCX', 'FTR', 'GPS', 'GRMN', 'GD', 'GE', 'GGP', 'GIS', 'GM', 'GPC', 'GILD', 'GPN', 'GS', 'GT', 'GWW', 'HAL', 'HBI', 'HOG', 'HAR', 'HRS', 'HIG', 'HAS', 'HCA', 'HCP', 'HP', 'HSIC', \n",
        "\t\t\t\t\t\t\t\t\t\t\t\t\t\t\t\t'HES', 'HPE', 'HOLX', 'HD', 'HON', 'HRL', 'HST', 'HPQ', 'HUM', 'HBAN', 'IDXX', 'ITW', 'ILMN', 'INCY', 'IR', 'INTC', 'ICE', 'IBM', 'IP', 'IPG', 'IFF', 'INTU', 'ISRG', 'IVZ', 'IRM', 'JBHT', 'JEC', \n",
        "\t\t\t\t\t\t\t\t\t\t\t\t\t\t\t\t'SJM', 'JNJ', 'JCI', 'JPM', 'JNPR', 'KSU', 'K', 'KEY', 'KMB', 'KIM', 'KMI', 'KLAC', 'KSS', 'KHC', 'KR', 'LB', 'LLL', 'LH', 'LRCX', 'LEG', 'LEN', 'LUK', 'LVLT', 'LLY', 'LNC', 'LLTC', 'LKQ', 'L', \n",
        "\t\t\t\t\t\t\t\t\t\t\t\t\t\t\t\t'LOW', 'LYB', 'MTB', 'MAC', 'M', 'MNK', 'MRO', 'MPC', 'MAR', 'MMC', 'MLM', 'MAS', 'MA', 'MAT', 'MKC', 'MCD', 'MCK', 'MJN', 'MDT', 'MRK', 'MET', 'MTD', 'KORS', 'MCHP', 'MU', 'MSFT', 'MAA', 'MHK', \n",
        "\t\t\t\t\t\t\t\t\t\t\t\t\t\t\t\t'TAP', 'MDLZ', 'MON', 'MNST', 'MCO', 'MS', 'MSI', 'MUR', 'MYL', 'NDAQ', 'NOV', 'NAVI', 'NTAP', 'NFLX', 'NFX', 'NEM', 'NWSA', 'NWS', 'NEE', 'NLSN', 'NKE', 'NI', 'JWN', 'NSC', 'NTRS', 'NOC', 'NRG', \n",
        "\t\t\t\t\t\t\t\t\t\t\t\t\t\t\t\t'NUE', 'NVDA', 'ORLY', 'OXY', 'OMC', 'OKE', 'ORCL', 'PCAR', 'PH', 'PDCO', 'PAYX', 'PYPL', 'PNR', 'PBCT', 'PEP', 'PKI', 'PRGO', 'PFE', 'PCG', 'PM', 'PSX', 'PNW', 'PXD', 'PNC', 'RL', 'PPG', 'PPL', \n",
        "\t\t\t\t\t\t\t\t\t\t\t\t\t\t\t\t'PX', 'PCLN', 'PFG', 'PG', 'PGR', 'PLD', 'PRU', 'PEG', 'PSA', 'PHM', 'PVH', 'QRVO', 'QCOM', 'PWR', 'DGX', 'RRC', 'RTN', 'O', 'RHT', 'REG', 'REGN', 'RF', 'RSG', 'RAI', 'RHI', 'ROK', 'COL', 'ROP', \n",
        "\t\t\t\t\t\t\t\t\t\t\t\t\t\t\t\t'ROST', 'RCL', 'R', 'SPGI', 'CRM', 'SCG', 'SLB', 'SNI', 'STX', 'SEE', 'SRE', 'SHW', 'SIG', 'SPG', 'SWKS', 'SLG', 'SNA', 'SO', 'LUV', 'SWN', 'SWK', 'SPLS', 'SBUX', 'STT', 'SRCL', 'SYK', 'STI', \n",
        "\t\t\t\t\t\t\t\t\t\t\t\t\t\t\t\t'SYMC', 'SYF', 'SYY', 'TROW', 'TGT', 'TEL', 'TGNA', 'TDC', 'TSO', 'TXN', 'TXT', 'BK', 'CLX', 'COO', 'HSY', 'MOS', 'TRV', 'DIS', 'TMO', 'TIF', 'TWX', 'TJX', 'TMK', 'TSS', 'TSCO', 'TDG', 'RIG', \n",
        "\t\t\t\t\t\t\t\t\t\t\t\t\t\t\t\t'TRIP', 'FOXA', 'FOX', 'TSN', 'USB', 'UDR', 'ULTA', 'UA', 'UAA', 'UNP', 'UAL', 'UNH', 'UPS', 'URI', 'UTX', 'UHS', 'UNM', 'URBN', 'VFC', 'VLO', 'VAR', 'VTR', 'VRSN', 'VRSK', 'VZ', 'VRTX', 'VIAB', \n",
        "\t\t\t\t\t\t\t\t\t\t\t\t\t\t\t\t'V', 'VNO', 'VMC', 'WMT', 'WBA', 'WM', 'WAT', 'WEC', 'WFC', 'HCN', 'WDC', 'WU', 'WRK', 'WY', 'WHR', 'WFM', 'WMB', 'WLTW', 'WYN', 'WYNN', 'XEL', 'XRX', 'XLNX', 'XL', 'XYL', 'YHOO', 'YUM', 'ZBH', \n",
        "\t\t\t\t\t\t\t\t\t\t\t\t\t\t\t\t'ZION', 'ZTS'],\n",
        "\t\t\t\t\t\t\t\t\t\t\t\t\t\t\n",
        "\t\t\t\t\t\t\t'ETFs': ['QYLD', 'TNA', 'TZA', 'KRBN', 'FXI', 'SARK', 'VHT', 'MGK', 'VB', 'IJR', 'XEG.TO', 'SCHG', 'VBR', 'VO', 'VBK', 'GRN', 'SCHX', 'COWZ', 'IJH', 'VOT', 'JSTC', 'VOE', 'VV', 'XSP.TO', 'QYLG', \n",
        "\t\t\t\t\t\t\t         'SCHV', 'POTX', 'SCHA', 'MGV', 'FHLC', 'TXF.TO', 'YOLO', 'ZWC.TO', 'AMJ', 'AVUV', 'ZQQ.TO', 'XIC.TO', 'EWC', 'ZWU.TO', 'HYLD.TO', 'MGC', 'VSP.TO', 'KEUA', 'XIT.TO', 'ZWB.TO', 'FNGG', 'VIOV',\n",
        "\t\t\t\t\t\t\t\t\t\t\t     'SLYV', 'VCN.TO', 'CGXF.TO', 'CALF', 'TAIL', 'HEU.TO', 'BBCA', 'SCHM', 'THCX', 'VIOO', 'KCCA', 'SCZ', 'SPSM', 'SMOG', 'FTCS', 'CNBS', 'IWR', 'ZWE.TO', 'IHF', 'NXF.TO', 'XDIV.TO',\n",
        "\t\t\t\t\t\t\t\t\t\t\t\t\t   'AVDV', 'ZWK.TO', 'IJJ', 'IWS', 'XRE.TO', 'SLY', 'XFN.TO', 'VIU.TO', 'XYLG', 'HCAL.TO', 'ZDV.TO', 'MIDU', 'XHE', 'FXC', 'SCHC', 'MNT.TO', 'EYLD', 'SYLD', 'SMIN', 'IJT', 'XDV.TO', \n",
        "\t\t\t\t\t\t\t\t\t\t\t\t\t\t  'PAWZ', 'TOKE', 'RIET', 'EWZS', 'PINK', 'ZLB.TO', 'KCE', 'SPMD', 'XMA.TO', 'ZCN.TO', 'SVAL', 'HED.TO', 'ZUB.TO', 'HFU.TO', 'KBWP', 'CNCR', 'CYA', 'FXH', 'BKLC', 'GMOM', 'CSB', 'RIT.TO', \n",
        "\t\t\t\t\t\t\t\t\t\t\t\t\t\t\t 'CGUS', 'TTP.TO', 'XHS', 'TRTY', 'SCJ', 'VE.TO', 'CIC.TO', 'IVOG', 'AVLV', 'FAB', 'FLCA', 'UTRN', 'XCV.TO', 'LGLV', 'LOWC', 'OUSM', 'XSU.TO', 'FEX', 'EWGS', 'TDSC', 'PWZ', 'VAMO', 'DISC.TO',\n",
        "\t\t\t\t\t\t\t\t\t\t\t\t\t\t\t 'FCCV.TO', 'ECLN', 'FSMO', 'NUMV', 'QRFT', 'NUSC', 'ZHY.TO', 'JHMM', 'ROOF', 'XCG.TO', 'RXD', 'CGCP', 'ZUH.TO', 'FTA', 'USMC', 'ZUE.TO']\n",
        "}"
      ],
      "execution_count": 8,
      "outputs": []
    },
    {
      "cell_type": "code",
      "source": [
        "data=[]\n",
        "\n",
        "for asset_class in securities:\n",
        "\tprint(\"Loading companies from \"+asset_class+\"...\")\n",
        " \n",
        "\tfor security in securities[asset_class]:\n",
        "\t\tsecurityData=getData(security) \n",
        "\t# If the company doesn't have any data, ignore it.\n",
        "\t\tif len(securityData)==0: continue\n",
        "\n",
        "\t\tdata.append(Security(securityData, asset_class))\n",
        "\tprint(\"Done.\")"
      ],
      "metadata": {
        "colab": {
          "base_uri": "https://localhost:8080/"
        },
        "id": "6M5SbE0X63lM",
        "outputId": "73a0053d-2f9c-479a-c0e6-6b6cc8b354cd"
      },
      "execution_count": 10,
      "outputs": [
        {
          "output_type": "stream",
          "name": "stdout",
          "text": [
            "Loading companies from Cryptocurrencies...\n",
            "- WTRX-USD: No data found for this date range, symbol may be delisted\n",
            "- WTRX-USD: No data found for this date range, symbol may be delisted\n",
            "- \tFTT-USD: No data found, symbol may be delisted\n",
            "- ICP-USD: No data found for this date range, symbol may be delisted\n",
            "- OSMO-USD: Data doesn't exist for startDate = 1546300800, endDate = 1609459200\n",
            "- TONCOIN-USD: Data doesn't exist for startDate = 1546300800, endDate = 1609459200\n",
            "- FLOW-USD: No data found for this date range, symbol may be delisted\n",
            "- BTT2-USD: No data found for this date range, symbol may be delisted\n",
            "- XEC-USD: Data doesn't exist for startDate = 1546300800, endDate = 1609459200\n",
            "- CBG-USD: Data doesn't exist for startDate = 1546300800, endDate = 1609459200\n",
            "- ANC1-USD: Data doesn't exist for startDate = 1546300800, endDate = 1609459200\n",
            "- CVX-USD: Data doesn't exist for startDate = 1546300800, endDate = 1609459200\n",
            "- XYM-USD: Data doesn't exist for startDate = 1546300800, endDate = 1609459200\n",
            "- LUSD-USD: Data doesn't exist for startDate = 1546300800, endDate = 1609459200\n",
            "- MINA-USD: Data doesn't exist for startDate = 1546300800, endDate = 1609459200\n",
            "- OMI-USD: Data doesn't exist for startDate = 1546300800, endDate = 1609459200\n",
            "- BIT1-USD: No data found for this date range, symbol may be delisted\n",
            "- KNC-USD: No data found for this date range, symbol may be delisted\n",
            "- GLMR-USD: No data found for this date range, symbol may be delisted\n",
            "- NFT1-USD: Data doesn't exist for startDate = 1546300800, endDate = 1609459200\n",
            "- METIS-USD: Data doesn't exist for startDate = 1546300800, endDate = 1609459200\n",
            "- FEI-USD: Data doesn't exist for startDate = 1546300800, endDate = 1609459200\n",
            "- ELON-USD: Data doesn't exist for startDate = 1546300800, endDate = 1609459200\n",
            "- RACA-USD: Data doesn't exist for startDate = 1546300800, endDate = 1609459200\n",
            "- IMX1-USD: Data doesn't exist for startDate = 1546300800, endDate = 1609459200\n",
            "- ILV-USD: Data doesn't exist for startDate = 1546300800, endDate = 1609459200\n",
            "- BTRST-USD: Data doesn't exist for startDate = 1546300800, endDate = 1609459200\n",
            "- DYDX-USD: Data doesn't exist for startDate = 1546300800, endDate = 1609459200\n",
            "- SPELL-USD: Data doesn't exist for startDate = 1546300800, endDate = 1609459200\n",
            "- PEOPLE-USD: Data doesn't exist for startDate = 1546300800, endDate = 1609459200\n",
            "- SAFEMOON-USD: Data doesn't exist for startDate = 1546300800, endDate = 1609459200\n",
            "- YGG-USD: Data doesn't exist for startDate = 1546300800, endDate = 1609459200\n",
            "- ENS-USD: Data doesn't exist for startDate = 1546300800, endDate = 1609459200\n",
            "- XPRT-USD: Data doesn't exist for startDate = 1546300800, endDate = 1609459200\n",
            "- DESO-USD: No data found for this date range, symbol may be delisted\n",
            "Done.\n",
            "Loading companies from Stocks...\n",
            "- AGK.L: No data found, symbol may be delisted\n",
            "- AMEC.L: No data found for this date range, symbol may be delisted\n",
            "- ARM.L: No data found for this date range, symbol may be delisted\n",
            "- BG.L: No data found for this date range, symbol may be delisted\n",
            "- BLT.L: No data found for this date range, symbol may be delisted\n",
            "- BSY.L: No data found for this date range, symbol may be delisted\n",
            "- ENRC.L: No data found for this date range, symbol may be delisted\n",
            "- GFS.L: No data found, symbol may be delisted\n",
            "- GKN.L: No data found for this date range, symbol may be delisted\n",
            "- MRW.L: No data found, symbol may be delisted\n",
            "- OML.L: No data found for this date range, symbol may be delisted\n",
            "- RRS.L: No data found for this date range, symbol may be delisted\n",
            "- RB.L: No data found, symbol may be delisted\n",
            "- FLG.L: No data found for this date range, symbol may be delisted\n",
            "- REX.L: No data found for this date range, symbol may be delisted\n",
            "- RBS.L: No data found, symbol may be delisted\n",
            "- RSA.L: No data found, symbol may be delisted\n",
            "- SAB.L: No data found for this date range, symbol may be delisted\n",
            "- SL.L: No data found for this date range, symbol may be delisted\n",
            "- TT.L: No data found for this date range, symbol may be delisted\n",
            "- VED.L: No data found for this date range, symbol may be delisted\n",
            "- WOS.L: No data found for this date range, symbol may be delisted\n",
            "- XTA.LADS.DE: No data found, symbol may be delisted\n",
            "- EOA.DE: No data found, symbol may be delisted\n",
            "- AET: No data found for this date range, symbol may be delisted\n",
            "- ALXN: No data found, symbol may be delisted\n",
            "- AGN: No data found, symbol may be delisted\n",
            "- APC: No data found, symbol may be delisted\n",
            "- BHI: No data found for this date range, symbol may be delisted\n",
            "- BCR: No data found for this date range, symbol may be delisted\n",
            "- BBT: No data found, symbol may be delisted\n",
            "- BRK.B: No data found, symbol may be delisted\n",
            "- BF.B: No data found for this date range, symbol may be delisted\n",
            "- CA: No data found for this date range, symbol may be delisted\n",
            "- COG: No data found, symbol may be delisted\n",
            "- CBG: No data found for this date range, symbol may be delisted\n",
            "- CBS: No data found, symbol may be delisted\n",
            "- CELG: No data found, symbol may be delisted\n",
            "- CTL: No data found, symbol may be delisted\n",
            "- CHK: Data doesn't exist for startDate = 1546300800, endDate = 1609459200\n",
            "- XEC: No data found, symbol may be delisted\n",
            "- COH: No data found for this date range, symbol may be delisted\n",
            "- CXO: No data found, symbol may be delisted\n",
            "- CSRA: No data found for this date range, symbol may be delisted\n",
            "- DLPH: No data found, symbol may be delisted\n",
            "- DPS: No data found for this date range, symbol may be delisted\n",
            "- ETFC: No data found, symbol may be delisted\n",
            "- EVHC: No data found for this date range, symbol may be delisted\n",
            "- ESRX: No data found for this date range, symbol may be delisted\n",
            "- FLIR: No data found, symbol may be delisted\n",
            "- FTR: No data found, symbol may be delisted\n",
            "- GGP: No data found for this date range, symbol may be delisted\n",
            "- HAR: No data found for this date range, symbol may be delisted\n",
            "- HRS: No data found, symbol may be delisted\n",
            "- HCP: Data doesn't exist for startDate = 1546300800, endDate = 1609459200\n",
            "- JEC: No data found, symbol may be delisted\n",
            "- KSU: No data found, symbol may be delisted\n",
            "- LB: No data found, symbol may be delisted\n",
            "- LUK: No data found for this date range, symbol may be delisted\n",
            "- LVLT: No data found for this date range, symbol may be delisted\n",
            "- LLTC: No data found for this date range, symbol may be delisted\n",
            "- MNK: No data found, symbol may be delisted\n",
            "- MJN: No data found for this date range, symbol may be delisted\n",
            "- KORS: No data found for this date range, symbol may be delisted\n",
            "- MON: Data doesn't exist for startDate = 1546300800, endDate = 1609459200\n",
            "- MYL: No data found, symbol may be delisted\n",
            "- PX: Data doesn't exist for startDate = 1546300800, endDate = 1609459200\n",
            "- PCLN: No data found for this date range, symbol may be delisted\n",
            "- RTN: No data found, symbol may be delisted\n",
            "- RHT: No data found, symbol may be delisted\n",
            "- RAI: No data found for this date range, symbol may be delisted\n",
            "- SCG: No data found for this date range, symbol may be delisted\n",
            "- SNI: No data found for this date range, symbol may be delisted\n",
            "- SPLS: No data found for this date range, symbol may be delisted\n",
            "- STI: No data found, symbol may be delisted\n",
            "- SYMC: No data found, symbol may be delisted\n",
            "- TSO: No data found for this date range, symbol may be delisted\n",
            "- TIF: No data found, symbol may be delisted\n",
            "- TWX: No data found for this date range, symbol may be delisted\n",
            "- TMK: No data found, symbol may be delisted\n",
            "- TSS: No data found, symbol may be delisted\n",
            "- UTX: No data found, symbol may be delisted\n",
            "- VAR: No data found, symbol may be delisted\n",
            "- VIAB: No data found, symbol may be delisted\n",
            "- HCN: No data found for this date range, symbol may be delisted\n",
            "- WFM: No data found for this date range, symbol may be delisted\n",
            "- WYN: No data found for this date range, symbol may be delisted\n",
            "- YHOO: No data found for this date range, symbol may be delisted\n",
            "Done.\n",
            "Loading companies from ETFs...\n",
            "- SARK: Data doesn't exist for startDate = 1546300800, endDate = 1609459200\n",
            "- GRN: Data doesn't exist for startDate = 1546300800, endDate = 1609459200\n",
            "- HYLD.TO: Data doesn't exist for startDate = 1546300800, endDate = 1609459200\n",
            "- KEUA: Data doesn't exist for startDate = 1546300800, endDate = 1609459200\n",
            "- FNGG: Data doesn't exist for startDate = 1546300800, endDate = 1609459200\n",
            "- KCCA: Data doesn't exist for startDate = 1546300800, endDate = 1609459200\n",
            "- RIET: Data doesn't exist for startDate = 1546300800, endDate = 1609459200\n",
            "- PINK: Data doesn't exist for startDate = 1546300800, endDate = 1609459200\n",
            "- CYA: Data doesn't exist for startDate = 1546300800, endDate = 1609459200\n",
            "- CGUS: Data doesn't exist for startDate = 1546300800, endDate = 1609459200\n",
            "- AVLV: Data doesn't exist for startDate = 1546300800, endDate = 1609459200\n",
            "- FSMO: Data doesn't exist for startDate = 1546300800, endDate = 1609459200\n",
            "- CGCP: Data doesn't exist for startDate = 1546300800, endDate = 1609459200\n",
            "Done.\n"
          ]
        }
      ]
    },
    {
      "cell_type": "code",
      "metadata": {
        "id": "2w3k0hEMzWa7",
        "colab": {
          "base_uri": "https://localhost:8080/"
        },
        "outputId": "a35f3597-2023-4dc1-ff22-7d3c9b030688"
      },
      "source": [
        "shuffle(data)\n",
        "\n",
        "# Not a lot of data so we use 80% to train, 20% to test as in classical approaches\n",
        "training_set=data[0:int(0.8*len(data))]\n",
        "\n",
        "testing_set=[security for security in data if security not in training_set]\n",
        "\n",
        "print('There are ' + str(len(data)) + ' timeseries in this dataset post filtering.')\n",
        "print('There were ' + str(len(securities['Cryptocurrencies']) + len(securities['Stocks']) + len(securities['ETFs'])) + ' timeseries in this dataset to begin with.')"
      ],
      "execution_count": 14,
      "outputs": [
        {
          "output_type": "stream",
          "name": "stdout",
          "text": [
            "There are 834 timeseries in this dataset post filtering.\n",
            "There were 971 timeseries in this dataset to begin with.\n"
          ]
        }
      ]
    },
    {
      "cell_type": "code",
      "metadata": {
        "id": "GSBKyiqyzeHc"
      },
      "source": [
        "inputs=[security.data for security in training_set]\n",
        "outputs=[security.point for security in training_set]\n",
        "\n",
        "# Inputs and outputs to test the model are built.\n",
        "inputsTEST=[security.data for security in testing_set]\n",
        "outputsTEST=[security.point for security in testing_set]\n",
        "\n",
        "good_data = []\n",
        "for i in range(len(inputs)):\n",
        "  if np.sum(inputs[i]) > 0:\n",
        "    good_data.append(i)\n",
        "\n",
        "\n",
        "good_data_TEST = []\n",
        "for i in range(len(inputsTEST)):\n",
        "  if np.sum(inputsTEST[i]) > 0:\n",
        "    good_data_TEST.append(i)\n",
        "\n",
        "inputs = [inputs[i] for i in good_data]\n",
        "outputs = [outputs[i] for i in good_data]\n",
        "inputsTEST = [inputsTEST[i] for i in good_data_TEST]\n",
        "outputsTEST = [outputsTEST[i] for i in good_data_TEST]\n"
      ],
      "execution_count": 15,
      "outputs": []
    },
    {
      "cell_type": "code",
      "metadata": {
        "id": "JI1pS1POzvei"
      },
      "source": [
        "class sigLearn:\n",
        "    def __init__(self, order=2, alpha=0.1):\n",
        "        if not isinstance(order, numbers.Integral) or order<1:\n",
        "            raise NameError('The order must be a positive integer.')\n",
        "        if not isinstance(alpha, numbers.Real) or alpha<=0.0:\n",
        "            raise NameError('Alpha must be a positive real number.')\n",
        "        self.order=int(order)\n",
        "        self.reg=None\n",
        "        self.alpha=alpha\n",
        "\n",
        "\n",
        "    def train(self, x, y):\n",
        "        '''\n",
        "        Trains the model using signatures.\n",
        "        \n",
        "        x: list of inputs, where each element of\n",
        "            the list is a list of tuples.\n",
        "        y: list of outputs.\n",
        "        '''\n",
        "\n",
        "        # We check that x and y have appropriate types\n",
        "        if x is None or y is None:\n",
        "            return\n",
        "        if not (type(x) is list or type(x) is tuple) or not (type(y) is list or type(y) is tuple):\n",
        "            raise NameError('Input and output must be lists or tuples.')\n",
        "        if len(x)!=len(y):\n",
        "            raise NameError('The number of inputs and the number of outputs must coincide.')\n",
        "        ###\n",
        "        \n",
        "        X=[list(sig(np.array(stream), self.order))\n",
        "                for stream in x]\n",
        "        self.reg = linear_model.Lasso(alpha = self.alpha)\n",
        "        self.reg.fit(X, y)\n",
        "        \n",
        "    def predict(self, x):\n",
        "        '''        \n",
        "        Predicts the outputs of the inputs x using the\n",
        "        pre-trained model.\n",
        "        x: list of inputs, where each element of\n",
        "            the list is a list of tuples.\n",
        "\n",
        "        Returns:\n",
        "\n",
        "        list of predicted outputs.        \n",
        "        '''\n",
        "        if self.reg is None:\n",
        "            raise NameError('The model is not trained.')\n",
        "\n",
        "        X=[list(sig(np.array(stream), self.order))\n",
        "                for stream in x]\n",
        " \n",
        "        return self.reg.predict(X)"
      ],
      "execution_count": 16,
      "outputs": []
    },
    {
      "cell_type": "code",
      "metadata": {
        "colab": {
          "base_uri": "https://localhost:8080/"
        },
        "id": "WzCEr1q9wESo",
        "outputId": "a5cf1727-ed1f-4308-a3ab-0e5f71e5ba69"
      },
      "source": [
        "# create a list of the orders of path signatures \n",
        "siglist = [i for i in range(1,9)]\n",
        "\n",
        "# create a list of the corresponding model-predicted accuracies\n",
        "# empty for now and will be filled as we build the model\n",
        "accuracylist = []\n",
        "\n",
        "# iterate along the path signatures and train the model\n",
        "for signorder in siglist:\n",
        "    # build a model based on the signature order\n",
        "    model=sigLearn(order=signorder);\n",
        "    # train a classifier via \n",
        "    model.train(inputs, outputs);\n",
        "\n",
        "    # We calculate the predictions.\n",
        "    predictions=model.predict(inputsTEST);\n",
        "    # Now put everything in our aggregated list\n",
        "    accuracylist.append(accuracy(predictions, outputsTEST));"
      ],
      "execution_count": 17,
      "outputs": [
        {
          "output_type": "stream",
          "name": "stderr",
          "text": [
            "/usr/local/lib/python3.7/dist-packages/sklearn/linear_model/_coordinate_descent.py:648: ConvergenceWarning: Objective did not converge. You might want to increase the number of iterations, check the scale of the features or consider increasing regularisation. Duality gap: 1.250e+02, tolerance: 4.178e-02\n",
            "  coef_, l1_reg, l2_reg, X, y, max_iter, tol, rng, random, positive\n",
            "/usr/local/lib/python3.7/dist-packages/sklearn/linear_model/_coordinate_descent.py:648: ConvergenceWarning: Objective did not converge. You might want to increase the number of iterations, check the scale of the features or consider increasing regularisation. Duality gap: 4.524e+01, tolerance: 9.155e-03\n",
            "  coef_, l1_reg, l2_reg, X, y, max_iter, tol, rng, random, positive\n",
            "/usr/local/lib/python3.7/dist-packages/sklearn/linear_model/_coordinate_descent.py:648: ConvergenceWarning: Objective did not converge. You might want to increase the number of iterations, check the scale of the features or consider increasing regularisation. Duality gap: 1.206e+02, tolerance: 4.178e-02\n",
            "  coef_, l1_reg, l2_reg, X, y, max_iter, tol, rng, random, positive\n",
            "/usr/local/lib/python3.7/dist-packages/sklearn/linear_model/_coordinate_descent.py:648: ConvergenceWarning: Objective did not converge. You might want to increase the number of iterations, check the scale of the features or consider increasing regularisation. Duality gap: 4.497e+01, tolerance: 9.155e-03\n",
            "  coef_, l1_reg, l2_reg, X, y, max_iter, tol, rng, random, positive\n",
            "/usr/local/lib/python3.7/dist-packages/sklearn/linear_model/_coordinate_descent.py:648: ConvergenceWarning: Objective did not converge. You might want to increase the number of iterations, check the scale of the features or consider increasing regularisation. Duality gap: 1.153e+02, tolerance: 4.178e-02\n",
            "  coef_, l1_reg, l2_reg, X, y, max_iter, tol, rng, random, positive\n",
            "/usr/local/lib/python3.7/dist-packages/sklearn/linear_model/_coordinate_descent.py:648: ConvergenceWarning: Objective did not converge. You might want to increase the number of iterations, check the scale of the features or consider increasing regularisation. Duality gap: 4.468e+01, tolerance: 9.155e-03\n",
            "  coef_, l1_reg, l2_reg, X, y, max_iter, tol, rng, random, positive\n",
            "/usr/local/lib/python3.7/dist-packages/sklearn/linear_model/_coordinate_descent.py:648: ConvergenceWarning: Objective did not converge. You might want to increase the number of iterations, check the scale of the features or consider increasing regularisation. Duality gap: 1.121e+02, tolerance: 4.178e-02\n",
            "  coef_, l1_reg, l2_reg, X, y, max_iter, tol, rng, random, positive\n",
            "/usr/local/lib/python3.7/dist-packages/sklearn/linear_model/_coordinate_descent.py:648: ConvergenceWarning: Objective did not converge. You might want to increase the number of iterations, check the scale of the features or consider increasing regularisation. Duality gap: 4.452e+01, tolerance: 9.155e-03\n",
            "  coef_, l1_reg, l2_reg, X, y, max_iter, tol, rng, random, positive\n",
            "/usr/local/lib/python3.7/dist-packages/sklearn/linear_model/_coordinate_descent.py:648: ConvergenceWarning: Objective did not converge. You might want to increase the number of iterations, check the scale of the features or consider increasing regularisation. Duality gap: 1.093e+02, tolerance: 4.178e-02\n",
            "  coef_, l1_reg, l2_reg, X, y, max_iter, tol, rng, random, positive\n",
            "/usr/local/lib/python3.7/dist-packages/sklearn/linear_model/_coordinate_descent.py:648: ConvergenceWarning: Objective did not converge. You might want to increase the number of iterations, check the scale of the features or consider increasing regularisation. Duality gap: 4.440e+01, tolerance: 9.155e-03\n",
            "  coef_, l1_reg, l2_reg, X, y, max_iter, tol, rng, random, positive\n",
            "/usr/local/lib/python3.7/dist-packages/sklearn/linear_model/_coordinate_descent.py:648: ConvergenceWarning: Objective did not converge. You might want to increase the number of iterations, check the scale of the features or consider increasing regularisation. Duality gap: 1.065e+02, tolerance: 4.178e-02\n",
            "  coef_, l1_reg, l2_reg, X, y, max_iter, tol, rng, random, positive\n",
            "/usr/local/lib/python3.7/dist-packages/sklearn/linear_model/_coordinate_descent.py:648: ConvergenceWarning: Objective did not converge. You might want to increase the number of iterations, check the scale of the features or consider increasing regularisation. Duality gap: 4.417e+01, tolerance: 9.155e-03\n",
            "  coef_, l1_reg, l2_reg, X, y, max_iter, tol, rng, random, positive\n",
            "/usr/local/lib/python3.7/dist-packages/sklearn/linear_model/_coordinate_descent.py:648: ConvergenceWarning: Objective did not converge. You might want to increase the number of iterations, check the scale of the features or consider increasing regularisation. Duality gap: 1.034e+02, tolerance: 4.178e-02\n",
            "  coef_, l1_reg, l2_reg, X, y, max_iter, tol, rng, random, positive\n",
            "/usr/local/lib/python3.7/dist-packages/sklearn/linear_model/_coordinate_descent.py:648: ConvergenceWarning: Objective did not converge. You might want to increase the number of iterations, check the scale of the features or consider increasing regularisation. Duality gap: 4.396e+01, tolerance: 9.155e-03\n",
            "  coef_, l1_reg, l2_reg, X, y, max_iter, tol, rng, random, positive\n"
          ]
        }
      ]
    },
    {
      "cell_type": "code",
      "metadata": {
        "colab": {
          "base_uri": "https://localhost:8080/",
          "height": 295
        },
        "id": "VJFr4Vl8Yf55",
        "outputId": "de9ce977-cdeb-4b43-dc1e-e2dd4689f3d2"
      },
      "source": [
        "plt.bar(siglist, accuracylist, color = 'lightsteelblue', edgecolor = 'black');\n",
        "plt.xlabel('Order of path signature', alpha = 0.7);\n",
        "plt.ylabel('Accuracy of predictions', alpha = 0.7);\n",
        "plt.title('Truncation order and model accuracy');\n",
        "plt.gca().spines['top'].set_visible(False)\n",
        "plt.gca().spines['right'].set_visible(False)\n",
        "plt.ylim(0.7,1);"
      ],
      "execution_count": 19,
      "outputs": [
        {
          "output_type": "display_data",
          "data": {
            "text/plain": [
              "<Figure size 432x288 with 1 Axes>"
            ],
            "image/png": "[encoded data removed]"
          },
          "metadata": {
            "needs_background": "light"
          }
        }
      ]
    },
    {
      "cell_type": "markdown",
      "source": [
        "### Bibliography\n",
        "[1] Levin, D., Lyons, T., Ni, H. (2016) \"Learning from the past, predicting the statistics for the future, learning an evolving system, 1309.0260\"\n",
        "\n",
        "[2] Lyons, T., Lévy, T., Caruana, M. (2006) Differential Equations driven by Rough Paths, Springer\n",
        "\n",
        "[3] Rough Path Theory and Signatures Applied To Quantitative Finance (https://www.quantstart.com/articles/rough-path-theory-and-signatures-applied-to-quantitative-finance-part-1/)\n",
        "\n",
        "[4] Chevyrev, I., Kormilitzin, A. (2016) \"A Primer on the Signature Method in Machine Learning, arXiv:1603.03788v1\""
      ],
      "metadata": {
        "id": "oMi22jTzdAe8"
      }
    },
    {
      "cell_type": "code",
      "source": [
        ""
      ],
      "metadata": {
        "id": "sef9FLu5YK_m"
      },
      "execution_count": null,
      "outputs": []
    }
  ]
}